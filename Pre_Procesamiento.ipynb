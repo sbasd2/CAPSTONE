{
  "nbformat": 4,
  "nbformat_minor": 0,
  "metadata": {
    "colab": {
      "provenance": [],
      "gpuType": "T4",
      "authorship_tag": "ABX9TyODNwZv+x2wQKJprBgzrLPf",
      "include_colab_link": true
    },
    "kernelspec": {
      "name": "python3",
      "display_name": "Python 3"
    },
    "language_info": {
      "name": "python"
    },
    "accelerator": "GPU"
  },
  "cells": [
    {
      "cell_type": "markdown",
      "metadata": {
        "id": "view-in-github",
        "colab_type": "text"
      },
      "source": [
        "<a href=\"https://colab.research.google.com/github/sbasd2/CAPSTONE/blob/main/Pre_Procesamiento.ipynb\" target=\"_parent\"><img src=\"https://colab.research.google.com/assets/colab-badge.svg\" alt=\"Open In Colab\"/></a>"
      ]
    },
    {
      "cell_type": "code",
      "source": [
        "# 🔧 Dependencias (OpenCV con optflow + utilidades)\n",
        "!pip install -q opencv-contrib-python==4.10.0.84 ffmpeg-python==0.2.0 tqdm==4.66.4 pandas==2.2.2\n",
        "\n",
        "# 📂 Estructura mínima (si ya tienes algo, no pasa nada)\n",
        "!mkdir -p /content/proyecto_agresiones/data/{raw_videos,normalized,clips_rgb,clips_flow}/{train,val,test}/{agresion,no_agresion}\n",
        "!mkdir -p /content/proyecto_agresiones/data/manifests\n"
      ],
      "metadata": {
        "id": "8_WZEX6ahxO7"
      },
      "execution_count": 3,
      "outputs": []
    }
  ]
}